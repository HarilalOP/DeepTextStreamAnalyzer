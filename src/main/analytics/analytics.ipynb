{
 "cells": [
  {
   "cell_type": "code",
   "execution_count": null,
   "metadata": {},
   "outputs": [],
   "source": [
    "//Install cassandra driver for python to run following commands\n",
    "//pip install cassandra-driver"
   ]
  },
  {
   "cell_type": "code",
   "execution_count": 1,
   "metadata": {},
   "outputs": [],
   "source": [
    "from cassandra import ConsistencyLevel\n",
    "from cassandra.cluster import Cluster, BatchStatement\n",
    "from cassandra.query import SimpleStatement"
   ]
  },
  {
   "cell_type": "code",
   "execution_count": 2,
   "metadata": {},
   "outputs": [],
   "source": [
    "import pandas as pd"
   ]
  },
  {
   "cell_type": "code",
   "execution_count": 3,
   "metadata": {},
   "outputs": [],
   "source": [
    "cluster = Cluster(['localhost'])\n",
    "session = cluster.connect('textanlyz_space')"
   ]
  },
  {
   "cell_type": "code",
   "execution_count": 4,
   "metadata": {},
   "outputs": [],
   "source": [
    "count_row = session.execute('select count(*) from txt_anlyz_stats;')"
   ]
  },
  {
   "cell_type": "code",
   "execution_count": 5,
   "metadata": {},
   "outputs": [
    {
     "data": {
      "text/plain": [
       "36502"
      ]
     },
     "execution_count": 5,
     "metadata": {},
     "output_type": "execute_result"
    }
   ],
   "source": [
    "##count total no of records\n",
    "count_row.one().count"
   ]
  },
  {
   "cell_type": "code",
   "execution_count": 6,
   "metadata": {},
   "outputs": [],
   "source": [
    "rows = session.execute('select * from txt_anlyz_stats;')"
   ]
  },
  {
   "cell_type": "code",
   "execution_count": 7,
   "metadata": {},
   "outputs": [],
   "source": [
    "rowsDF = pd.DataFrame(list(rows))"
   ]
  },
  {
   "cell_type": "code",
   "execution_count": 8,
   "metadata": {},
   "outputs": [
    {
     "data": {
      "text/html": [
       "<div>\n",
       "<style scoped>\n",
       "    .dataframe tbody tr th:only-of-type {\n",
       "        vertical-align: middle;\n",
       "    }\n",
       "\n",
       "    .dataframe tbody tr th {\n",
       "        vertical-align: top;\n",
       "    }\n",
       "\n",
       "    .dataframe thead th {\n",
       "        text-align: right;\n",
       "    }\n",
       "</style>\n",
       "<table border=\"1\" class=\"dataframe\">\n",
       "  <thead>\n",
       "    <tr style=\"text-align: right;\">\n",
       "      <th></th>\n",
       "      <th>id</th>\n",
       "      <th>date</th>\n",
       "      <th>formatted_text</th>\n",
       "      <th>sentiment</th>\n",
       "      <th>text_data</th>\n",
       "    </tr>\n",
       "  </thead>\n",
       "  <tbody>\n",
       "    <tr>\n",
       "      <th>0</th>\n",
       "      <td>2052249055</td>\n",
       "      <td>Sat Jun 06 00:06:46 PDT 2009</td>\n",
       "      <td>It's early but it was fun while it lasted  dan...</td>\n",
       "      <td>positive</td>\n",
       "      <td>It's early but it was fun while it lasted  dan...</td>\n",
       "    </tr>\n",
       "    <tr>\n",
       "      <th>1</th>\n",
       "      <td>1999729202</td>\n",
       "      <td>Mon Jun 01 20:43:07 PDT 2009</td>\n",
       "      <td>i can't believe my nicky turkey is all grown u...</td>\n",
       "      <td>negative</td>\n",
       "      <td>i can't believe my nicky turkey is all grown u...</td>\n",
       "    </tr>\n",
       "    <tr>\n",
       "      <th>2</th>\n",
       "      <td>1981881032</td>\n",
       "      <td>Sun May 31 10:04:54 PDT 2009</td>\n",
       "      <td>oohhhh twitter......i guess i have to wash clo...</td>\n",
       "      <td>negative</td>\n",
       "      <td>oohhhh twitter......i guess i have to wash clo...</td>\n",
       "    </tr>\n",
       "    <tr>\n",
       "      <th>3</th>\n",
       "      <td>1981680777</td>\n",
       "      <td>Sun May 31 09:40:08 PDT 2009</td>\n",
       "      <td>Going to see Doug cause I'm bored. Can't figur...</td>\n",
       "      <td>negative</td>\n",
       "      <td>Going to see Doug cause I'm bored. Can't figur...</td>\n",
       "    </tr>\n",
       "    <tr>\n",
       "      <th>4</th>\n",
       "      <td>1995893781</td>\n",
       "      <td>Mon Jun 01 14:12:45 PDT 2009</td>\n",
       "      <td>@SCRUFFYSMOMMY jesssssssica!!! i hope your hea...</td>\n",
       "      <td>positive</td>\n",
       "      <td>@SCRUFFYSMOMMY jesssssssica!!! i hope your hea...</td>\n",
       "    </tr>\n",
       "  </tbody>\n",
       "</table>\n",
       "</div>"
      ],
      "text/plain": [
       "           id                          date  \\\n",
       "0  2052249055  Sat Jun 06 00:06:46 PDT 2009   \n",
       "1  1999729202  Mon Jun 01 20:43:07 PDT 2009   \n",
       "2  1981881032  Sun May 31 10:04:54 PDT 2009   \n",
       "3  1981680777  Sun May 31 09:40:08 PDT 2009   \n",
       "4  1995893781  Mon Jun 01 14:12:45 PDT 2009   \n",
       "\n",
       "                                      formatted_text sentiment  \\\n",
       "0  It's early but it was fun while it lasted  dan...  positive   \n",
       "1  i can't believe my nicky turkey is all grown u...  negative   \n",
       "2  oohhhh twitter......i guess i have to wash clo...  negative   \n",
       "3  Going to see Doug cause I'm bored. Can't figur...  negative   \n",
       "4  @SCRUFFYSMOMMY jesssssssica!!! i hope your hea...  positive   \n",
       "\n",
       "                                           text_data  \n",
       "0  It's early but it was fun while it lasted  dan...  \n",
       "1  i can't believe my nicky turkey is all grown u...  \n",
       "2  oohhhh twitter......i guess i have to wash clo...  \n",
       "3  Going to see Doug cause I'm bored. Can't figur...  \n",
       "4  @SCRUFFYSMOMMY jesssssssica!!! i hope your hea...  "
      ]
     },
     "execution_count": 8,
     "metadata": {},
     "output_type": "execute_result"
    }
   ],
   "source": [
    "rowsDF.head()"
   ]
  },
  {
   "cell_type": "code",
   "execution_count": 10,
   "metadata": {},
   "outputs": [
    {
     "data": {
      "text/plain": [
       "<matplotlib.axes._subplots.AxesSubplot at 0x7fc27fb81110>"
      ]
     },
     "execution_count": 10,
     "metadata": {},
     "output_type": "execute_result"
    },
    {
     "data": {
      "image/png": "[encoded data removed]",
      "text/plain": [
       "<Figure size 432x288 with 1 Axes>"
      ]
     },
     "metadata": {},
     "output_type": "display_data"
    }
   ],
   "source": [
    "rowsDF['sentiment'].value_counts().plot(kind = 'pie')"
   ]
  },
  {
   "cell_type": "code",
   "execution_count": 11,
   "metadata": {},
   "outputs": [
    {
     "data": {
      "text/plain": [
       "<matplotlib.axes._subplots.AxesSubplot at 0x7fc277880310>"
      ]
     },
     "execution_count": 11,
     "metadata": {},
     "output_type": "execute_result"
    },
    {
     "data": {
      "image/png": "[encoded data removed]",
      "text/plain": [
       "<Figure size 432x288 with 1 Axes>"
      ]
     },
     "metadata": {
      "needs_background": "light"
     },
     "output_type": "display_data"
    }
   ],
   "source": [
    "#top 5 days with most tweets\n",
    "rowsDF['date'].value_counts(sort=True)[:5].plot(kind='bar')"
   ]
  },
  {
   "cell_type": "code",
   "execution_count": 12,
   "metadata": {},
   "outputs": [
    {
     "data": {
      "text/plain": [
       "36502"
      ]
     },
     "execution_count": 12,
     "metadata": {},
     "output_type": "execute_result"
    }
   ],
   "source": [
    "##Every user id associated with only one tweet\n",
    "rowsDF['id'].unique().size"
   ]
  }
 ],
 "metadata": {
  "kernelspec": {
   "display_name": "Python 2",
   "language": "python",
   "name": "python2"
  },
  "language_info": {
   "codemirror_mode": {
    "name": "ipython",
    "version": 2
   },
   "file_extension": ".py",
   "mimetype": "text/x-python",
   "name": "python",
   "nbconvert_exporter": "python",
   "pygments_lexer": "ipython2",
   "version": "2.7.15"
  }
 },
 "nbformat": 4,
 "nbformat_minor": 2
}
